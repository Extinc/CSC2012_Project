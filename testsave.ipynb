{
 "cells": [
  {
   "cell_type": "code",
   "execution_count": 16,
   "metadata": {},
   "outputs": [],
   "source": [
    "import requests\n",
    "import numpy as np\n",
    "import os\n",
    "import io"
   ]
  },
  {
   "cell_type": "code",
   "execution_count": 17,
   "metadata": {},
   "outputs": [],
   "source": [
    "DATA_PATH = \"data\"\n",
    "actions = ['a','b', 'c','hello', 'my', 'y', 'n', 'I love you', 'thank', 'you', 'name']\n",
    "label_ids = {action: i for i, action in enumerate(actions)}"
   ]
  },
  {
   "cell_type": "code",
   "execution_count": 27,
   "metadata": {},
   "outputs": [],
   "source": [
    "hand_landmarks = []\n",
    "labels = []\n",
    "url = 'http://0.0.0.0:8080/api/numpy/save/'\n",
    "\n",
    "for asl_sign in actions:\n",
    "    sign_path = os.path.join(DATA_PATH, asl_sign)\n",
    "    sign_files = os.listdir(sign_path)\n",
    "    sign_files.sort()\n",
    "    \n",
    "    for file in sign_files:\n",
    "        file_name, extension = os.path.splitext(file)\n",
    "        full_path = os.path.join(sign_path, file)\n",
    "        data = np.load(full_path)\n",
    "        binary_file = io.BytesIO()   \n",
    "        np.save(binary_file, data)\n",
    "        # binary_file.seek(0)\n",
    "        requests.post(f\"{url}{asl_sign}/{file}\" , data=binary_file.getvalue())\n"
   ]
  }
 ],
 "metadata": {
  "kernelspec": {
   "display_name": "csc2012app",
   "language": "python",
   "name": "python3"
  },
  "language_info": {
   "codemirror_mode": {
    "name": "ipython",
    "version": 3
   },
   "file_extension": ".py",
   "mimetype": "text/x-python",
   "name": "python",
   "nbconvert_exporter": "python",
   "pygments_lexer": "ipython3",
   "version": "3.10.8"
  },
  "orig_nbformat": 4
 },
 "nbformat": 4,
 "nbformat_minor": 2
}
